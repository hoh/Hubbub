{
 "metadata": {
  "name": "",
  "signature": "sha256:5087d4cc9635b7fad9d8507a6fb11981c40db3a17678c6ccaeacdcb010b90212"
 },
 "nbformat": 3,
 "nbformat_minor": 0,
 "worksheets": [
  {
   "cells": [
    {
     "cell_type": "code",
     "collapsed": false,
     "input": [
      "from IPython.display import HTML\n",
      "HTML('''<h1>Testing with ANN</h1>\n",
      "\n",
      "<ol>\n",
      "    <li><a href='#Comparing-real-and-dummy-delays'>Comparison of delays between real and dummies</a></li>\n",
      "</ol>\n",
      "<hr/>''')"
     ],
     "language": "python",
     "metadata": {},
     "outputs": [
      {
       "html": [
        "<h1>Testing with ANN</h1>\n",
        "\n",
        "<ol>\n",
        "    <li><a href='#Comparing-real-and-dummy-delays'>Comparison of delays between real and dummies</a></li>\n",
        "</ol>\n",
        "<hr/>"
       ],
       "metadata": {},
       "output_type": "pyout",
       "prompt_number": 1,
       "text": [
        "<IPython.core.display.HTML at 0x10fe3f210>"
       ]
      }
     ],
     "prompt_number": 1
    },
    {
     "cell_type": "code",
     "collapsed": false,
     "input": [
      "%pylab inline"
     ],
     "language": "python",
     "metadata": {},
     "outputs": [
      {
       "output_type": "stream",
       "stream": "stdout",
       "text": [
        "Populating the interactive namespace from numpy and matplotlib\n"
       ]
      }
     ],
     "prompt_number": 2
    },
    {
     "cell_type": "code",
     "collapsed": false,
     "input": [
      "# Large plots\n",
      "import matplotlib.pylab as pylab\n",
      "pylab.rcParams['figure.figsize'] = 16, 9"
     ],
     "language": "python",
     "metadata": {},
     "outputs": [],
     "prompt_number": 3
    },
    {
     "cell_type": "code",
     "collapsed": false,
     "input": [
      "import numpy as np\n",
      "import pandas as pd"
     ],
     "language": "python",
     "metadata": {},
     "outputs": [],
     "prompt_number": 4
    },
    {
     "cell_type": "code",
     "collapsed": false,
     "input": [
      "from hubbub.generator.generator import Simulator\n",
      "from hubbub.generator.heartbeat import HeartBeatSimulator\n",
      "from hubbub.datasets.simulations import simple_log, SIMPLE_LOG as SIMPLE_LOG_SAMPLE"
     ],
     "language": "python",
     "metadata": {},
     "outputs": [
      {
       "output_type": "stream",
       "stream": "stdout",
       "text": [
        "Warning: This tool is designed for Python 3.\n"
       ]
      }
     ],
     "prompt_number": 5
    },
    {
     "cell_type": "code",
     "collapsed": false,
     "input": [
      "#SIMPLE_LOG = SIMPLE_LOG_SAMPLE\n",
      "#SIMPLE_LOG_SAMPLE\n",
      "\n",
      "# Generating \"real\" messages dataset:\n",
      "SIMPLE_LOG = simple_log(n=200, days=1)\n",
      "#SIMPLE_LOG[:10]"
     ],
     "language": "python",
     "metadata": {},
     "outputs": [],
     "prompt_number": 6
    },
    {
     "cell_type": "heading",
     "level": 1,
     "metadata": {},
     "source": [
      "Running simulator"
     ]
    },
    {
     "cell_type": "code",
     "collapsed": false,
     "input": [
      "result_sm = Simulator(SIMPLE_LOG).run()\n",
      "results_HB = [\n",
      "    HeartBeatSimulator(SIMPLE_LOG).run() for i in xrange(5)\n",
      "#    HeartBeatSimulator(SIMPLE_LOG).run(delay=lambda: 5) for i in xrange(10)\n",
      "    ]\n",
      "\n",
      "results_HB[0][:2]"
     ],
     "language": "python",
     "metadata": {},
     "outputs": [
      {
       "metadata": {},
       "output_type": "pyout",
       "prompt_number": 7,
       "text": [
        "[(datetime.datetime(2000, 1, 1, 0, 0), 10),\n",
        " (datetime.datetime(2000, 1, 1, 0, 0, 0, 483881), 10)]"
       ]
      }
     ],
     "prompt_number": 7
    },
    {
     "cell_type": "heading",
     "level": 2,
     "metadata": {},
     "source": [
      "Converting results to timestamps for plotting:"
     ]
    },
    {
     "cell_type": "code",
     "collapsed": false,
     "input": [
      "import time\n",
      "def timestamp(n):\n",
      "    unix_time = time.mktime(n.timetuple()) + n.microsecond/1000000.\n",
      "    return unix_time"
     ],
     "language": "python",
     "metadata": {},
     "outputs": [],
     "prompt_number": 8
    },
    {
     "cell_type": "code",
     "collapsed": false,
     "input": [
      "r_real = pd.DataFrame(\n",
      "    [(0, timestamp(i[0]), 'SIMPLE_LOG', i[1]) for i in SIMPLE_LOG],\n",
      "    columns=('dummy', 'timestamp', 'source', 'length'),\n",
      "    )\n",
      "r_real.head()"
     ],
     "language": "python",
     "metadata": {},
     "outputs": [
      {
       "html": [
        "<div style=\"max-height:1000px;max-width:1500px;overflow:auto;\">\n",
        "<table border=\"1\" class=\"dataframe\">\n",
        "  <thead>\n",
        "    <tr style=\"text-align: right;\">\n",
        "      <th></th>\n",
        "      <th>dummy</th>\n",
        "      <th>timestamp</th>\n",
        "      <th>source</th>\n",
        "      <th>length</th>\n",
        "    </tr>\n",
        "  </thead>\n",
        "  <tbody>\n",
        "    <tr>\n",
        "      <th>0</th>\n",
        "      <td> 0</td>\n",
        "      <td> 9.466812e+08</td>\n",
        "      <td> SIMPLE_LOG</td>\n",
        "      <td> 10</td>\n",
        "    </tr>\n",
        "    <tr>\n",
        "      <th>1</th>\n",
        "      <td> 0</td>\n",
        "      <td> 9.466813e+08</td>\n",
        "      <td> SIMPLE_LOG</td>\n",
        "      <td> 10</td>\n",
        "    </tr>\n",
        "    <tr>\n",
        "      <th>2</th>\n",
        "      <td> 0</td>\n",
        "      <td> 9.466839e+08</td>\n",
        "      <td> SIMPLE_LOG</td>\n",
        "      <td> 10</td>\n",
        "    </tr>\n",
        "    <tr>\n",
        "      <th>3</th>\n",
        "      <td> 0</td>\n",
        "      <td> 9.466841e+08</td>\n",
        "      <td> SIMPLE_LOG</td>\n",
        "      <td> 10</td>\n",
        "    </tr>\n",
        "    <tr>\n",
        "      <th>4</th>\n",
        "      <td> 0</td>\n",
        "      <td> 9.466846e+08</td>\n",
        "      <td> SIMPLE_LOG</td>\n",
        "      <td> 10</td>\n",
        "    </tr>\n",
        "  </tbody>\n",
        "</table>\n",
        "<p>5 rows \u00d7 4 columns</p>\n",
        "</div>"
       ],
       "metadata": {},
       "output_type": "pyout",
       "prompt_number": 9,
       "text": [
        "   dummy     timestamp      source  length\n",
        "0      0  9.466812e+08  SIMPLE_LOG      10\n",
        "1      0  9.466813e+08  SIMPLE_LOG      10\n",
        "2      0  9.466839e+08  SIMPLE_LOG      10\n",
        "3      0  9.466841e+08  SIMPLE_LOG      10\n",
        "4      0  9.466846e+08  SIMPLE_LOG      10\n",
        "\n",
        "[5 rows x 4 columns]"
       ]
      }
     ],
     "prompt_number": 9
    },
    {
     "cell_type": "code",
     "collapsed": false,
     "input": [
      "r_dummyHB = [\n",
      "    pd.DataFrame(\n",
      "        [(1, timestamp(i[0]), 'HB{}'.format(index), i[1]) for i in r],\n",
      "        columns=('dummy', 'timestamp', 'source', 'length'),\n",
      "        )\n",
      "    for index, r in enumerate(results_HB)\n",
      "    ]\n",
      "r_dummyHB[0].head()"
     ],
     "language": "python",
     "metadata": {},
     "outputs": [
      {
       "html": [
        "<div style=\"max-height:1000px;max-width:1500px;overflow:auto;\">\n",
        "<table border=\"1\" class=\"dataframe\">\n",
        "  <thead>\n",
        "    <tr style=\"text-align: right;\">\n",
        "      <th></th>\n",
        "      <th>dummy</th>\n",
        "      <th>timestamp</th>\n",
        "      <th>source</th>\n",
        "      <th>length</th>\n",
        "    </tr>\n",
        "  </thead>\n",
        "  <tbody>\n",
        "    <tr>\n",
        "      <th>0</th>\n",
        "      <td> 1</td>\n",
        "      <td> 9.466812e+08</td>\n",
        "      <td> HB0</td>\n",
        "      <td> 10</td>\n",
        "    </tr>\n",
        "    <tr>\n",
        "      <th>1</th>\n",
        "      <td> 1</td>\n",
        "      <td> 9.466812e+08</td>\n",
        "      <td> HB0</td>\n",
        "      <td> 10</td>\n",
        "    </tr>\n",
        "    <tr>\n",
        "      <th>2</th>\n",
        "      <td> 1</td>\n",
        "      <td> 9.466812e+08</td>\n",
        "      <td> HB0</td>\n",
        "      <td> 10</td>\n",
        "    </tr>\n",
        "    <tr>\n",
        "      <th>3</th>\n",
        "      <td> 1</td>\n",
        "      <td> 9.466812e+08</td>\n",
        "      <td> HB0</td>\n",
        "      <td> 10</td>\n",
        "    </tr>\n",
        "    <tr>\n",
        "      <th>4</th>\n",
        "      <td> 1</td>\n",
        "      <td> 9.466812e+08</td>\n",
        "      <td> HB0</td>\n",
        "      <td> 10</td>\n",
        "    </tr>\n",
        "  </tbody>\n",
        "</table>\n",
        "<p>5 rows \u00d7 4 columns</p>\n",
        "</div>"
       ],
       "metadata": {},
       "output_type": "pyout",
       "prompt_number": 10,
       "text": [
        "   dummy     timestamp source  length\n",
        "0      1  9.466812e+08    HB0      10\n",
        "1      1  9.466812e+08    HB0      10\n",
        "2      1  9.466812e+08    HB0      10\n",
        "3      1  9.466812e+08    HB0      10\n",
        "4      1  9.466812e+08    HB0      10\n",
        "\n",
        "[5 rows x 4 columns]"
       ]
      }
     ],
     "prompt_number": 10
    },
    {
     "cell_type": "heading",
     "level": 1,
     "metadata": {},
     "source": [
      "Analyzing delays"
     ]
    },
    {
     "cell_type": "heading",
     "level": 2,
     "metadata": {},
     "source": [
      "Computing deltas for n-3 to n+3"
     ]
    },
    {
     "cell_type": "code",
     "collapsed": false,
     "input": [
      "r_mixed = [\n",
      "    pd.concat((r_real, r))\n",
      "    for r in r_dummyHB\n",
      "]\n",
      "for r in r_mixed:\n",
      "    r.sort('timestamp', inplace=True)\n",
      "    r['dm3'] = r['timestamp'].diff(periods=+3)\n",
      "    r['dm2'] = r['timestamp'].diff(periods=+2)\n",
      "    r['dm1'] = r['timestamp'].diff(periods=+1)\n",
      "    r['dp1'] = -r['timestamp'].diff(periods=-1)\n",
      "    r['dp2'] = -r['timestamp'].diff(periods=-2)\n",
      "    r['dp3'] = -r['timestamp'].diff(periods=-3)\n",
      "\n",
      "r_mixed[0].head(10)"
     ],
     "language": "python",
     "metadata": {},
     "outputs": [
      {
       "html": [
        "<div style=\"max-height:1000px;max-width:1500px;overflow:auto;\">\n",
        "<table border=\"1\" class=\"dataframe\">\n",
        "  <thead>\n",
        "    <tr style=\"text-align: right;\">\n",
        "      <th></th>\n",
        "      <th>dummy</th>\n",
        "      <th>timestamp</th>\n",
        "      <th>source</th>\n",
        "      <th>length</th>\n",
        "      <th>dm3</th>\n",
        "      <th>dm2</th>\n",
        "      <th>dm1</th>\n",
        "      <th>dp1</th>\n",
        "      <th>dp2</th>\n",
        "      <th>dp3</th>\n",
        "    </tr>\n",
        "  </thead>\n",
        "  <tbody>\n",
        "    <tr>\n",
        "      <th>0</th>\n",
        "      <td> 1</td>\n",
        "      <td> 9.466812e+08</td>\n",
        "      <td> HB0</td>\n",
        "      <td> 10</td>\n",
        "      <td>      NaN</td>\n",
        "      <td>      NaN</td>\n",
        "      <td>      NaN</td>\n",
        "      <td> 0.483881</td>\n",
        "      <td> 3.798227</td>\n",
        "      <td> 5.488650</td>\n",
        "    </tr>\n",
        "    <tr>\n",
        "      <th>1</th>\n",
        "      <td> 1</td>\n",
        "      <td> 9.466812e+08</td>\n",
        "      <td> HB0</td>\n",
        "      <td> 10</td>\n",
        "      <td>      NaN</td>\n",
        "      <td>      NaN</td>\n",
        "      <td> 0.483881</td>\n",
        "      <td> 3.314346</td>\n",
        "      <td> 5.004769</td>\n",
        "      <td> 6.011144</td>\n",
        "    </tr>\n",
        "    <tr>\n",
        "      <th>2</th>\n",
        "      <td> 1</td>\n",
        "      <td> 9.466812e+08</td>\n",
        "      <td> HB0</td>\n",
        "      <td> 10</td>\n",
        "      <td>      NaN</td>\n",
        "      <td> 3.798227</td>\n",
        "      <td> 3.314346</td>\n",
        "      <td> 1.690423</td>\n",
        "      <td> 2.696798</td>\n",
        "      <td> 6.974775</td>\n",
        "    </tr>\n",
        "    <tr>\n",
        "      <th>3</th>\n",
        "      <td> 1</td>\n",
        "      <td> 9.466812e+08</td>\n",
        "      <td> HB0</td>\n",
        "      <td> 10</td>\n",
        "      <td> 5.488650</td>\n",
        "      <td> 5.004769</td>\n",
        "      <td> 1.690423</td>\n",
        "      <td> 1.006375</td>\n",
        "      <td> 5.284352</td>\n",
        "      <td> 5.995023</td>\n",
        "    </tr>\n",
        "    <tr>\n",
        "      <th>4</th>\n",
        "      <td> 1</td>\n",
        "      <td> 9.466812e+08</td>\n",
        "      <td> HB0</td>\n",
        "      <td> 10</td>\n",
        "      <td> 6.011144</td>\n",
        "      <td> 2.696798</td>\n",
        "      <td> 1.006375</td>\n",
        "      <td> 4.277977</td>\n",
        "      <td> 4.988648</td>\n",
        "      <td> 5.536058</td>\n",
        "    </tr>\n",
        "    <tr>\n",
        "      <th>5</th>\n",
        "      <td> 1</td>\n",
        "      <td> 9.466812e+08</td>\n",
        "      <td> HB0</td>\n",
        "      <td> 10</td>\n",
        "      <td> 6.974775</td>\n",
        "      <td> 5.284352</td>\n",
        "      <td> 4.277977</td>\n",
        "      <td> 0.710671</td>\n",
        "      <td> 1.258081</td>\n",
        "      <td> 2.511761</td>\n",
        "    </tr>\n",
        "    <tr>\n",
        "      <th>6</th>\n",
        "      <td> 1</td>\n",
        "      <td> 9.466812e+08</td>\n",
        "      <td> HB0</td>\n",
        "      <td> 10</td>\n",
        "      <td> 5.995023</td>\n",
        "      <td> 4.988648</td>\n",
        "      <td> 0.710671</td>\n",
        "      <td> 0.547410</td>\n",
        "      <td> 1.801090</td>\n",
        "      <td> 2.071607</td>\n",
        "    </tr>\n",
        "    <tr>\n",
        "      <th>7</th>\n",
        "      <td> 1</td>\n",
        "      <td> 9.466812e+08</td>\n",
        "      <td> HB0</td>\n",
        "      <td> 10</td>\n",
        "      <td> 5.536058</td>\n",
        "      <td> 1.258081</td>\n",
        "      <td> 0.547410</td>\n",
        "      <td> 1.253680</td>\n",
        "      <td> 1.524197</td>\n",
        "      <td> 1.737170</td>\n",
        "    </tr>\n",
        "    <tr>\n",
        "      <th>8</th>\n",
        "      <td> 1</td>\n",
        "      <td> 9.466812e+08</td>\n",
        "      <td> HB0</td>\n",
        "      <td> 10</td>\n",
        "      <td> 2.511761</td>\n",
        "      <td> 1.801090</td>\n",
        "      <td> 1.253680</td>\n",
        "      <td> 0.270517</td>\n",
        "      <td> 0.483490</td>\n",
        "      <td> 1.892113</td>\n",
        "    </tr>\n",
        "    <tr>\n",
        "      <th>9</th>\n",
        "      <td> 1</td>\n",
        "      <td> 9.466812e+08</td>\n",
        "      <td> HB0</td>\n",
        "      <td> 10</td>\n",
        "      <td> 2.071607</td>\n",
        "      <td> 1.524197</td>\n",
        "      <td> 0.270517</td>\n",
        "      <td> 0.212973</td>\n",
        "      <td> 1.621596</td>\n",
        "      <td> 8.812251</td>\n",
        "    </tr>\n",
        "  </tbody>\n",
        "</table>\n",
        "<p>10 rows \u00d7 10 columns</p>\n",
        "</div>"
       ],
       "metadata": {},
       "output_type": "pyout",
       "prompt_number": 11,
       "text": [
        "   dummy     timestamp source  length       dm3       dm2       dm1       dp1  \\\n",
        "0      1  9.466812e+08    HB0      10       NaN       NaN       NaN  0.483881   \n",
        "1      1  9.466812e+08    HB0      10       NaN       NaN  0.483881  3.314346   \n",
        "2      1  9.466812e+08    HB0      10       NaN  3.798227  3.314346  1.690423   \n",
        "3      1  9.466812e+08    HB0      10  5.488650  5.004769  1.690423  1.006375   \n",
        "4      1  9.466812e+08    HB0      10  6.011144  2.696798  1.006375  4.277977   \n",
        "5      1  9.466812e+08    HB0      10  6.974775  5.284352  4.277977  0.710671   \n",
        "6      1  9.466812e+08    HB0      10  5.995023  4.988648  0.710671  0.547410   \n",
        "7      1  9.466812e+08    HB0      10  5.536058  1.258081  0.547410  1.253680   \n",
        "8      1  9.466812e+08    HB0      10  2.511761  1.801090  1.253680  0.270517   \n",
        "9      1  9.466812e+08    HB0      10  2.071607  1.524197  0.270517  0.212973   \n",
        "\n",
        "        dp2       dp3  \n",
        "0  3.798227  5.488650  \n",
        "1  5.004769  6.011144  \n",
        "2  2.696798  6.974775  \n",
        "3  5.284352  5.995023  \n",
        "4  4.988648  5.536058  \n",
        "5  1.258081  2.511761  \n",
        "6  1.801090  2.071607  \n",
        "7  1.524197  1.737170  \n",
        "8  0.483490  1.892113  \n",
        "9  1.621596  8.812251  \n",
        "\n",
        "[10 rows x 10 columns]"
       ]
      }
     ],
     "prompt_number": 11
    },
    {
     "cell_type": "heading",
     "level": 2,
     "metadata": {},
     "source": [
      "Creating the Neural Network"
     ]
    },
    {
     "cell_type": "code",
     "collapsed": false,
     "input": [
      "from pybrain.datasets            import ClassificationDataSet\n",
      "from pybrain.utilities           import percentError\n",
      "from pybrain.tools.shortcuts     import buildNetwork\n",
      "from pybrain.supervised.trainers import BackpropTrainer\n",
      "from pybrain.structure.modules   import SoftmaxLayer"
     ],
     "language": "python",
     "metadata": {},
     "outputs": [],
     "prompt_number": 12
    },
    {
     "cell_type": "code",
     "collapsed": false,
     "input": [
      "alldata = ClassificationDataSet(6, 1, nb_classes=3)\n",
      "\n",
      "for row in r_mixed[0][:1000].iterrows():\n",
      "    r = row[1]\n",
      "    alldata.addSample((r.dm3, r.dm2, r.dm1, r.dp1, r.dp2, r.dp3), [r.dummy])"
     ],
     "language": "python",
     "metadata": {},
     "outputs": [],
     "prompt_number": 13
    },
    {
     "cell_type": "markdown",
     "metadata": {},
     "source": [
      "Randomly split the dataset into 75% training and 25% test data sets."
     ]
    },
    {
     "cell_type": "code",
     "collapsed": false,
     "input": [
      "tstdata, trndata = alldata.splitWithProportion( 0.25 )\n",
      "# For neural network classification, it is highly advisable to encode classes with one output neuron per class.\n",
      "trndata._convertToOneOfMany( )\n",
      "tstdata._convertToOneOfMany( )"
     ],
     "language": "python",
     "metadata": {},
     "outputs": [],
     "prompt_number": 14
    },
    {
     "cell_type": "markdown",
     "metadata": {},
     "source": [
      "Test our dataset by printing a little information about it."
     ]
    },
    {
     "cell_type": "code",
     "collapsed": false,
     "input": [
      "print \"Number of training patterns: \", len(trndata)\n",
      "print \"Input and output dimensions: \", trndata.indim, trndata.outdim\n",
      "print \"First sample (input, target, class):\"\n",
      "print trndata['input'][0], trndata['target'][0], trndata['class'][0]"
     ],
     "language": "python",
     "metadata": {},
     "outputs": [
      {
       "output_type": "stream",
       "stream": "stdout",
       "text": [
        "Number of training patterns:  750\n",
        "Input and output dimensions:  6 3\n",
        "First sample (input, target, class):\n",
        "[        nan         nan  0.483881    3.31434596  5.00476897  6.01114404] [0 1 0] [ 1.]\n"
       ]
      }
     ],
     "prompt_number": 15
    },
    {
     "cell_type": "markdown",
     "metadata": {},
     "source": [
      "_Now build a feed-forward network with 5 hidden units._"
     ]
    },
    {
     "cell_type": "code",
     "collapsed": false,
     "input": [
      "fnn = buildNetwork( trndata.indim, 5, trndata.outdim, outclass=SoftmaxLayer )"
     ],
     "language": "python",
     "metadata": {},
     "outputs": [],
     "prompt_number": 16
    },
    {
     "cell_type": "code",
     "collapsed": false,
     "input": [
      "trainer = BackpropTrainer( fnn, dataset=trndata, momentum=0.1, verbose=True, weightdecay=0.01)"
     ],
     "language": "python",
     "metadata": {},
     "outputs": [],
     "prompt_number": 17
    },
    {
     "cell_type": "code",
     "collapsed": false,
     "input": [
      "for i in range(20):\n",
      "    trainer.trainEpochs( 1 )\n",
      "    \n",
      "    trnresult = percentError( trainer.testOnClassData(),\n",
      "                              trndata['class'] )\n",
      "    tstresult = percentError( trainer.testOnClassData(\n",
      "           dataset=tstdata ), tstdata['class'] )\n",
      "\n",
      "    print \"epoch: %4d\" % trainer.totalepochs, \\\n",
      "          \"  train error: %5.2f%%\" % trnresult, \\\n",
      "          \"  test error: %5.2f%%\" % tstresult"
     ],
     "language": "python",
     "metadata": {},
     "outputs": [
      {
       "output_type": "stream",
       "stream": "stdout",
       "text": [
        "('Total error:', nan)\n",
        "epoch:    1"
       ]
      },
      {
       "output_type": "stream",
       "stream": "stdout",
       "text": [
        "   train error: 99.87%   test error: 99.60%\n",
        "('Total error:', nan)"
       ]
      },
      {
       "output_type": "stream",
       "stream": "stdout",
       "text": [
        "\n",
        "epoch:    2"
       ]
      },
      {
       "output_type": "stream",
       "stream": "stdout",
       "text": [
        "   train error: 99.87%   test error: 99.60%\n",
        "('Total error:', nan)"
       ]
      },
      {
       "output_type": "stream",
       "stream": "stdout",
       "text": [
        "\n",
        "epoch:    3"
       ]
      },
      {
       "output_type": "stream",
       "stream": "stdout",
       "text": [
        "   train error: 99.87%   test error: 99.60%\n",
        "('Total error:', nan)"
       ]
      },
      {
       "output_type": "stream",
       "stream": "stdout",
       "text": [
        "\n",
        "epoch:    4"
       ]
      },
      {
       "output_type": "stream",
       "stream": "stdout",
       "text": [
        "   train error: 99.87%   test error: 99.60%\n",
        "('Total error:', nan)"
       ]
      },
      {
       "output_type": "stream",
       "stream": "stdout",
       "text": [
        "\n",
        "epoch:    5"
       ]
      },
      {
       "output_type": "stream",
       "stream": "stdout",
       "text": [
        "   train error: 99.87%   test error: 99.60%\n",
        "('Total error:', nan)"
       ]
      },
      {
       "output_type": "stream",
       "stream": "stdout",
       "text": [
        "\n",
        "epoch:    6"
       ]
      },
      {
       "output_type": "stream",
       "stream": "stdout",
       "text": [
        "   train error: 99.87%   test error: 99.60%\n",
        "('Total error:', nan)"
       ]
      },
      {
       "output_type": "stream",
       "stream": "stdout",
       "text": [
        "\n",
        "epoch:    7"
       ]
      },
      {
       "output_type": "stream",
       "stream": "stdout",
       "text": [
        "   train error: 99.87%   test error: 99.60%\n",
        "('Total error:', nan)"
       ]
      },
      {
       "output_type": "stream",
       "stream": "stdout",
       "text": [
        "\n",
        "epoch:    8"
       ]
      },
      {
       "output_type": "stream",
       "stream": "stdout",
       "text": [
        "   train error: 99.87%   test error: 99.60%\n",
        "('Total error:', nan)"
       ]
      },
      {
       "output_type": "stream",
       "stream": "stdout",
       "text": [
        "\n",
        "epoch:    9"
       ]
      },
      {
       "output_type": "stream",
       "stream": "stdout",
       "text": [
        "   train error: 99.87%   test error: 99.60%\n",
        "('Total error:', nan)"
       ]
      },
      {
       "output_type": "stream",
       "stream": "stdout",
       "text": [
        "\n",
        "epoch:   10"
       ]
      },
      {
       "output_type": "stream",
       "stream": "stdout",
       "text": [
        "   train error: 99.87%   test error: 99.60%\n",
        "('Total error:', nan)"
       ]
      },
      {
       "output_type": "stream",
       "stream": "stdout",
       "text": [
        "\n",
        "epoch:   11"
       ]
      },
      {
       "output_type": "stream",
       "stream": "stdout",
       "text": [
        "   train error: 99.87%   test error: 99.60%\n",
        "('Total error:', nan)"
       ]
      },
      {
       "output_type": "stream",
       "stream": "stdout",
       "text": [
        "\n",
        "epoch:   12"
       ]
      },
      {
       "output_type": "stream",
       "stream": "stdout",
       "text": [
        "   train error: 99.87%   test error: 99.60%\n",
        "('Total error:', nan)"
       ]
      },
      {
       "output_type": "stream",
       "stream": "stdout",
       "text": [
        "\n",
        "epoch:   13"
       ]
      },
      {
       "output_type": "stream",
       "stream": "stdout",
       "text": [
        "   train error: 99.87%   test error: 99.60%\n",
        "('Total error:', nan)"
       ]
      },
      {
       "output_type": "stream",
       "stream": "stdout",
       "text": [
        "\n",
        "epoch:   14"
       ]
      },
      {
       "output_type": "stream",
       "stream": "stdout",
       "text": [
        "   train error: 99.87%   test error: 99.60%\n",
        "('Total error:', nan)"
       ]
      },
      {
       "output_type": "stream",
       "stream": "stdout",
       "text": [
        "\n",
        "epoch:   15"
       ]
      },
      {
       "output_type": "stream",
       "stream": "stdout",
       "text": [
        "   train error: 99.87%   test error: 99.60%\n",
        "('Total error:', nan)"
       ]
      },
      {
       "output_type": "stream",
       "stream": "stdout",
       "text": [
        "\n",
        "epoch:   16"
       ]
      },
      {
       "output_type": "stream",
       "stream": "stdout",
       "text": [
        "   train error: 99.87%   test error: 99.60%\n",
        "('Total error:', nan)"
       ]
      },
      {
       "output_type": "stream",
       "stream": "stdout",
       "text": [
        "\n",
        "epoch:   17"
       ]
      },
      {
       "output_type": "stream",
       "stream": "stdout",
       "text": [
        "   train error: 99.87%   test error: 99.60%\n",
        "('Total error:', nan)"
       ]
      },
      {
       "output_type": "stream",
       "stream": "stdout",
       "text": [
        "\n",
        "epoch:   18"
       ]
      },
      {
       "output_type": "stream",
       "stream": "stdout",
       "text": [
        "   train error: 99.87%   test error: 99.60%\n",
        "('Total error:', nan)"
       ]
      },
      {
       "output_type": "stream",
       "stream": "stdout",
       "text": [
        "\n",
        "epoch:   19"
       ]
      },
      {
       "output_type": "stream",
       "stream": "stdout",
       "text": [
        "   train error: 99.87%   test error: 99.60%\n",
        "('Total error:', nan)"
       ]
      },
      {
       "output_type": "stream",
       "stream": "stdout",
       "text": [
        "\n",
        "epoch:   20"
       ]
      },
      {
       "output_type": "stream",
       "stream": "stdout",
       "text": [
        "   train error: 99.87%   test error: 99.60%\n"
       ]
      }
     ],
     "prompt_number": 18
    },
    {
     "cell_type": "code",
     "collapsed": false,
     "input": [],
     "language": "python",
     "metadata": {},
     "outputs": [],
     "prompt_number": 18
    }
   ],
   "metadata": {}
  }
 ]
}