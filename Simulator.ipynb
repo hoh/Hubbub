{
 "metadata": {
  "name": "",
  "signature": "sha256:dc6f87c56d67bd30995891f9b6b198af64a3d4aadd167d7e0eb489ad09b0c77e"
 },
 "nbformat": 3,
 "nbformat_minor": 0,
 "worksheets": [
  {
   "cells": [
    {
     "cell_type": "code",
     "collapsed": false,
     "input": [
      "%pylab inline"
     ],
     "language": "python",
     "metadata": {},
     "outputs": [
      {
       "output_type": "stream",
       "stream": "stdout",
       "text": [
        "Populating the interactive namespace from numpy and matplotlib\n"
       ]
      }
     ],
     "prompt_number": 1
    },
    {
     "cell_type": "code",
     "collapsed": false,
     "input": [
      "from hubbub.generator.generator import Simulator\n",
      "from hubbub.generator.heartbeat import HeartBeatSimulator\n",
      "from hubbub.datasets.simulations import SIMPLE_LOG"
     ],
     "language": "python",
     "metadata": {},
     "outputs": [],
     "prompt_number": 19
    },
    {
     "cell_type": "code",
     "collapsed": false,
     "input": [
      "SIMPLE_LOG"
     ],
     "language": "python",
     "metadata": {},
     "outputs": [
      {
       "metadata": {},
       "output_type": "pyout",
       "prompt_number": 20,
       "text": [
        "[{'date': datetime.datetime(2000, 1, 1, 0, 1, 13)},\n",
        " {'date': datetime.datetime(2000, 1, 1, 0, 2, 42)},\n",
        " {'date': datetime.datetime(2000, 1, 1, 0, 3, 7)}]"
       ]
      }
     ],
     "prompt_number": 20
    },
    {
     "cell_type": "code",
     "collapsed": false,
     "input": [
      "result_sm = Simulator(SIMPLE_LOG).run()\n",
      "result_hb = HeartBeatSimulator(SIMPLE_LOG).run()"
     ],
     "language": "python",
     "metadata": {},
     "outputs": [
      {
       "output_type": "stream",
       "stream": "stdout",
       "text": [
        "start: 2000-01-01 00:00:00\n",
        "end: 2000-01-01 23:59:59.999999\n",
        "start:"
       ]
      },
      {
       "output_type": "stream",
       "stream": "stdout",
       "text": [
        " 2000-01-01 00:00:00\n",
        "end: 2000-01-01 23:59:59.999999\n"
       ]
      }
     ],
     "prompt_number": 27
    },
    {
     "cell_type": "code",
     "collapsed": false,
     "input": [
      "result_hb[:5]"
     ],
     "language": "python",
     "metadata": {},
     "outputs": [
      {
       "metadata": {},
       "output_type": "pyout",
       "prompt_number": 28,
       "text": [
        "[{'date': datetime.datetime(2000, 1, 1, 0, 0)},\n",
        " {'date': datetime.datetime(2000, 1, 1, 0, 0, 5)},\n",
        " {'date': datetime.datetime(2000, 1, 1, 0, 0, 10)},\n",
        " {'date': datetime.datetime(2000, 1, 1, 0, 0, 15)},\n",
        " {'date': datetime.datetime(2000, 1, 1, 0, 0, 20)}]"
       ]
      }
     ],
     "prompt_number": 28
    },
    {
     "cell_type": "markdown",
     "metadata": {},
     "source": [
      "### Converting results to timestamps for plotting:"
     ]
    },
    {
     "cell_type": "code",
     "collapsed": false,
     "input": [
      "import time\n",
      "def timestamp(n):\n",
      "    unix_time = time.mktime(n.timetuple())\n",
      "    return unix_time"
     ],
     "language": "python",
     "metadata": {},
     "outputs": [],
     "prompt_number": 29
    },
    {
     "cell_type": "code",
     "collapsed": false,
     "input": [
      "r_real = [timestamp(i['date']) for i in SIMPLE_LOG]"
     ],
     "language": "python",
     "metadata": {},
     "outputs": [],
     "prompt_number": 30
    },
    {
     "cell_type": "markdown",
     "metadata": {},
     "source": [
      "## Dummy messages"
     ]
    },
    {
     "cell_type": "markdown",
     "metadata": {},
     "source": [
      "Simple generator"
     ]
    },
    {
     "cell_type": "code",
     "collapsed": false,
     "input": [
      "r_sm = [timestamp(i['date']) for i in result_sm]\n",
      "plot(r_sm[:50])"
     ],
     "language": "python",
     "metadata": {},
     "outputs": [
      {
       "metadata": {},
       "output_type": "pyout",
       "prompt_number": 33,
       "text": [
        "[<matplotlib.lines.Line2D at 0x108160a10>]"
       ]
      },
      {
       "metadata": {},
       "output_type": "display_data",
       "png": "[encoded data removed]",
       "text": [
        "<matplotlib.figure.Figure at 0x1058af150>"
       ]
      }
     ],
     "prompt_number": 33
    },
    {
     "cell_type": "markdown",
     "metadata": {},
     "source": [
      "HeartBeat generator"
     ]
    },
    {
     "cell_type": "code",
     "collapsed": false,
     "input": [
      "r_hb = [timestamp(i['date']) for i in result_hb]\n",
      "plot(r_hb[:50])"
     ],
     "language": "python",
     "metadata": {},
     "outputs": [
      {
       "metadata": {},
       "output_type": "pyout",
       "prompt_number": 32,
       "text": [
        "[<matplotlib.lines.Line2D at 0x10839a0d0>]"
       ]
      },
      {
       "metadata": {},
       "output_type": "display_data",
       "png": "[encoded data removed]",
       "text": [
        "<matplotlib.figure.Figure at 0x107dcd150>"
       ]
      }
     ],
     "prompt_number": 32
    },
    {
     "cell_type": "markdown",
     "metadata": {},
     "source": [
      "### Dummy messages + real messages"
     ]
    },
    {
     "cell_type": "markdown",
     "metadata": {},
     "source": [
      "Simple generator"
     ]
    },
    {
     "cell_type": "code",
     "collapsed": false,
     "input": [
      "r_real_sm = [] + r_sm + r_real\n",
      "r_real_sm.sort()\n",
      "plot(r_real_sm[:50])"
     ],
     "language": "python",
     "metadata": {},
     "outputs": [
      {
       "metadata": {},
       "output_type": "pyout",
       "prompt_number": 34,
       "text": [
        "[<matplotlib.lines.Line2D at 0x1084d8a90>]"
       ]
      },
      {
       "metadata": {},
       "output_type": "display_data",
       "png": "[encoded data removed]",
       "text": [
        "<matplotlib.figure.Figure at 0x107f08850>"
       ]
      }
     ],
     "prompt_number": 34
    },
    {
     "cell_type": "markdown",
     "metadata": {},
     "source": [
      "HeartBeat generator"
     ]
    },
    {
     "cell_type": "code",
     "collapsed": false,
     "input": [
      "r_real_hb = [] + r_hb + r_real\n",
      "r_real_hb.sort()\n",
      "plot(r_real_hb[:50])"
     ],
     "language": "python",
     "metadata": {},
     "outputs": [
      {
       "metadata": {},
       "output_type": "pyout",
       "prompt_number": 35,
       "text": [
        "[<matplotlib.lines.Line2D at 0x108506d50>]"
       ]
      },
      {
       "metadata": {},
       "output_type": "display_data",
       "png": "[encoded data removed]",
       "text": [
        "<matplotlib.figure.Figure at 0x107ef16d0>"
       ]
      }
     ],
     "prompt_number": 35
    },
    {
     "cell_type": "code",
     "collapsed": false,
     "input": [
      "figure()\n",
      "plot(r_real_sm[:50], 'x')\n",
      "plot(r_real_hb[:50], 'x')\n",
      "show()"
     ],
     "language": "python",
     "metadata": {},
     "outputs": [
      {
       "metadata": {},
       "output_type": "display_data",
       "png": "[encoded data removed]",
       "text": [
        "<matplotlib.figure.Figure at 0x108766290>"
       ]
      }
     ],
     "prompt_number": 50
    },
    {
     "cell_type": "code",
     "collapsed": false,
     "input": [],
     "language": "python",
     "metadata": {},
     "outputs": [],
     "prompt_number": 49
    },
    {
     "cell_type": "code",
     "collapsed": false,
     "input": [],
     "language": "python",
     "metadata": {},
     "outputs": []
    }
   ],
   "metadata": {}
  }
 ]
}